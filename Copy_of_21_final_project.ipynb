{
  "nbformat": 4,
  "nbformat_minor": 0,
  "metadata": {
    "colab": {
      "name": "Copy of 21 final project.ipynb",
      "provenance": [],
      "include_colab_link": true
    },
    "kernelspec": {
      "name": "python3",
      "display_name": "Python 3"
    }
  },
  "cells": [
    {
      "cell_type": "markdown",
      "metadata": {
        "id": "view-in-github",
        "colab_type": "text"
      },
      "source": [
        "<a href=\"https://colab.research.google.com/github/sld5733/sld5733/blob/master/Copy_of_21_final_project.ipynb\" target=\"_parent\"><img src=\"https://colab.research.google.com/assets/colab-badge.svg\" alt=\"Open In Colab\"/></a>"
      ]
    },
    {
      "cell_type": "markdown",
      "metadata": {
        "id": "Kw5PZBtl0Ob6",
        "colab_type": "text"
      },
      "source": [
        "Group 21 Final Project: Terrorism's Impact "
      ]
    },
    {
      "cell_type": "markdown",
      "metadata": {
        "id": "iXWAmSVB0Rno",
        "colab_type": "text"
      },
      "source": [
        "Contributors:\n",
        "\n",
        "\n",
        "* Joy Obreza\n",
        "* Steven Dieso\n",
        "* Michael DuBois\n",
        "\n"
      ]
    },
    {
      "cell_type": "markdown",
      "metadata": {
        "id": "WpaW-i5l0ZHn",
        "colab_type": "text"
      },
      "source": [
        "## Background"
      ]
    },
    {
      "cell_type": "markdown",
      "metadata": {
        "id": "E4VKsOvP0eev",
        "colab_type": "text"
      },
      "source": [
        "\n",
        "When beginning to search for datasets we were interested in, we knew we wanted to zero in on a topic that is very relevant to our careers in the Security and Risk Analysis major. Some form of crime was at the top of our discussion. We then chose to focus in on a threat that many of us in SRA will be tasked with combating; terrorism. Through our search we knew we wanted to analyze the impact of terrorism on countries in one manner or another. GDP proved to be a signficiant factor to consider when collecting intelligence. Our group wanted to display the correlation between two datasets to compare the threat our nation faces and how that specific risk can affect certain factors within that country. We knew we wanted to discuss a topic that was of signficance and something that would be eye catching to viewers. Being as though terrorism has affected so many individuals all across the globe we wanted to stress the importance of educating people on the topic. Through visual aids people are able to easily understand the goal we are trying to achieve. We wanted to see how the number of terrorist attacks related to economic development of a nation in terms of its GDP. We also wanted to display it in a manner that told a story and added meaning to the content through the use of bar graphs. By displaying graphs of both GDP and the number of terrorist attacks side by side, we can allow viewers to draw conclusions about the data, proving whether or not GDP is correlated to the number of terrorist attacks in a nation or they are unrelated factors. "
      ]
    },
    {
      "cell_type": "markdown",
      "metadata": {
        "id": "7d8vfcGufV0_",
        "colab_type": "text"
      },
      "source": [
        "### Goal"
      ]
    },
    {
      "cell_type": "markdown",
      "metadata": {
        "id": "e1jKSGTjfY2H",
        "colab_type": "text"
      },
      "source": [
        "The goal of this project is to visualize GDP levels for various countries around the world as well as the occurrence of terrorism in these countries. Through this, we hope to find trends between economic development and levels of terrorism. "
      ]
    },
    {
      "cell_type": "markdown",
      "metadata": {
        "id": "GOxy_TvCfi54",
        "colab_type": "text"
      },
      "source": [
        "### Assumptions"
      ]
    },
    {
      "cell_type": "markdown",
      "metadata": {
        "id": "cw1v_1MMfnAR",
        "colab_type": "text"
      },
      "source": [
        "Insert 10 assumptions for your data model:\n",
        "*   Nations with more ethnic group diversity will have higher rates of terrorist attacks.\n",
        "*   Countries with lower GDP are more likely to experience terrorist activities. \n",
        "*   Countries with higher GDP will have a lower number of terrorist attacks.\n",
        "*   Countries with lower levels of democracy will have a higher number of terrorist attacks. \n",
        "*   Countries with a larger number of cities will experience a higher rating of terrorist attacks. \n",
        "*   Countries with less economic or civil freedoms will result in more terrorist attacks.  \n",
        "*   Countries with government corruption will see a higher number of terrorist attacks. \n",
        "*   Countries with strong security forces will have a lower number of terrorist attacks in their nation. \n",
        "*   Countries lacking a strong formal government will experience more terrorist attacks. \n",
        "*   Location of the country will effect if they more susceptible to partaking in terrorist activities (Middle East). \n",
        "\n"
      ]
    },
    {
      "cell_type": "markdown",
      "metadata": {
        "id": "jKGILpu7gWr6",
        "colab_type": "text"
      },
      "source": [
        "### Data Sources"
      ]
    },
    {
      "cell_type": "markdown",
      "metadata": {
        "id": "uwCao7AtgbNn",
        "colab_type": "text"
      },
      "source": [
        "The data sources were selected because they were both comprehensive in their scope. The Global Terrorism database included detailed breakdowns of thousands of incidents over a 40+ year period with over 100 variables for each attack. The detail contained in the data opened the possibility for many different possible analyses based around the circumstances of each attack. It includes information such as weapons used, ransoms demanded, ransoms received, hostages taken, as well as breaking down geographic location beyond the country level down to the latitude and longitude of the attack. The data is maintained and updated by the National Consortium for the Study of Terrorism and Responses to Terrorism from the University of Maryland. Funding for this project is provided by the United States Department of State and Department of Homeland Security. We paired the terrorism data with global economic data for each country in the world. This dataset included information that was important to the overall goal of the project, which is to attempt to visualize correlations between the health of nation’s economy and incidents of terrorism.  While it included factors such as levels of agriculture, migration, and literacy, we decided to use GDP for each country. GDP is often used by economists as a basic predictor for the economic success of a country. The data in this dataset is all retrieved from The World Factbook, an archive published by the Central Intelligence Agency that has been updated weekly since 2010. Our sources were not joined together. Instead, we made two separate graphs to highlight the information. "
      ]
    },
    {
      "cell_type": "markdown",
      "metadata": {
        "id": "kDgSdoQUgg2Z",
        "colab_type": "text"
      },
      "source": [
        "#### Sources"
      ]
    },
    {
      "cell_type": "markdown",
      "metadata": {
        "id": "dFzYIi0Agi2_",
        "colab_type": "text"
      },
      "source": [
        "https://www.kaggle.com/fernandol/countries-of-the-world\n",
        "\n",
        "https://www.kaggle.com/START-UMD/gtd"
      ]
    },
    {
      "cell_type": "markdown",
      "metadata": {
        "id": "qcFak2v7g3jt",
        "colab_type": "text"
      },
      "source": [
        "## Dashboard (5)"
      ]
    },
    {
      "cell_type": "code",
      "metadata": {
        "id": "knG79vNP0Q0u",
        "colab_type": "code",
        "outputId": "7ac00665-d631-493a-e886-026c8f019c08",
        "colab": {
          "base_uri": "https://localhost:8080/",
          "height": 864
        }
      },
      "source": [
        "import IPython\n",
        "IPython.display.HTML(\"x\")\n",
        "IPython.display.HTML(\"<div class='tableauPlaceholder' id='viz1588010025245' style='position: relative'><noscript><a href='#'><img alt=' ' src='https:&#47;&#47;public.tableau.com&#47;static&#47;images&#47;Gd&#47;Gdpandterrorism&#47;Dashboard1&#47;1_rss.png' style='border: none' /></a></noscript><object class='tableauViz'  style='display:none;'><param name='host_url' value='https%3A%2F%2Fpublic.tableau.com%2F' /> <param name='embed_code_version' value='3' /> <param name='site_root' value='' /><param name='name' value='Gdpandterrorism&#47;Dashboard1' /><param name='tabs' value='no' /><param name='toolbar' value='yes' /><param name='static_image' value='https:&#47;&#47;public.tableau.com&#47;static&#47;images&#47;Gd&#47;Gdpandterrorism&#47;Dashboard1&#47;1.png' /> <param name='animate_transition' value='yes' /><param name='display_static_image' value='yes' /><param name='display_spinner' value='yes' /><param name='display_overlay' value='yes' /><param name='display_count' value='yes' /></object></div>                <script type='text/javascript'>                    var divElement = document.getElementById('viz1588010025245');                    var vizElement = divElement.getElementsByTagName('object')[0];                    if ( divElement.offsetWidth > 800 ) { vizElement.style.width='1000px';vizElement.style.height='827px';} else if ( divElement.offsetWidth > 500 ) { vizElement.style.width='1000px';vizElement.style.height='827px';} else { vizElement.style.width='100%';vizElement.style.height='727px';}                     var scriptElement = document.createElement('script');                    scriptElement.src = 'https://public.tableau.com/javascripts/api/viz_v1.js';                    vizElement.parentNode.insertBefore(scriptElement, vizElement);                </script>\") # can't find image "
      ],
      "execution_count": 0,
      "outputs": [
        {
          "output_type": "execute_result",
          "data": {
            "text/html": [
              "<div class='tableauPlaceholder' id='viz1588010025245' style='position: relative'><noscript><a href='#'><img alt=' ' src='https:&#47;&#47;public.tableau.com&#47;static&#47;images&#47;Gd&#47;Gdpandterrorism&#47;Dashboard1&#47;1_rss.png' style='border: none' /></a></noscript><object class='tableauViz'  style='display:none;'><param name='host_url' value='https%3A%2F%2Fpublic.tableau.com%2F' /> <param name='embed_code_version' value='3' /> <param name='site_root' value='' /><param name='name' value='Gdpandterrorism&#47;Dashboard1' /><param name='tabs' value='no' /><param name='toolbar' value='yes' /><param name='static_image' value='https:&#47;&#47;public.tableau.com&#47;static&#47;images&#47;Gd&#47;Gdpandterrorism&#47;Dashboard1&#47;1.png' /> <param name='animate_transition' value='yes' /><param name='display_static_image' value='yes' /><param name='display_spinner' value='yes' /><param name='display_overlay' value='yes' /><param name='display_count' value='yes' /></object></div>                <script type='text/javascript'>                    var divElement = document.getElementById('viz1588010025245');                    var vizElement = divElement.getElementsByTagName('object')[0];                    if ( divElement.offsetWidth > 800 ) { vizElement.style.width='1000px';vizElement.style.height='827px';} else if ( divElement.offsetWidth > 500 ) { vizElement.style.width='1000px';vizElement.style.height='827px';} else { vizElement.style.width='100%';vizElement.style.height='727px';}                     var scriptElement = document.createElement('script');                    scriptElement.src = 'https://public.tableau.com/javascripts/api/viz_v1.js';                    vizElement.parentNode.insertBefore(scriptElement, vizElement);                </script>"
            ],
            "text/plain": [
              "<IPython.core.display.HTML object>"
            ]
          },
          "metadata": {
            "tags": []
          },
          "execution_count": 1
        }
      ]
    },
    {
      "cell_type": "markdown",
      "metadata": {
        "id": "SvWfnlDjnos1",
        "colab_type": "text"
      },
      "source": [
        "## Conclusion"
      ]
    },
    {
      "cell_type": "code",
      "metadata": {
        "id": "GiYDwrUYn0k0",
        "colab_type": "code",
        "colab": {}
      },
      "source": [
        "Based off the data we have aquired, we have rejected and accepted a number of our assumptions.\n",
        "We first made the assumption that countries with a more diverse ethnic background have a greater rate of terrorsit attacks. \n",
        "We rejected this assumption because the only country with a large amount of terrorist attacks and a large amount of ethnic diveristy was the united states, we can assume that the U.S is an outlier in this aspect since Westbank, Gaza Strip, and Somalia all have relatively similar ethnic diversities.\n",
        "Our second assumption was that countries with a lower GDP have a higher rate of terrorism. \n",
        "The U.S also was the outlier in this assumption, being that it was the only country with a higher GDP than the others that had a large amount of terrorist attacks, therefore we will agree with this assumption.\n",
        "Our third assumption is that Countries with a higher GDP will have a lower rate of terrorist attacks.\n",
        "Similarly to our last assumption the U.S is the only outlier here, so we will agree with this assumption.\n",
        "Our next assumption was that countries with lower levels of democracy will have a higher number of terrorist attacks. \n",
        "We will agree with this assumption, yet again the U.S is a very noticible outlier. \n",
        "Our fifth assumption is that countries with a larger number of cities will have a higher number of terrorist attacks.\n",
        "Every country shown in our graph has a higher amount of cities than West Bank, Gaza Strip, and somalia, so we would not be able to agree with this assumption, although the U.S is once again the odd one out.\n",
        "Our next assumption states that countries with less economics and civil freedoms have a higher rate of terrorism. This is true for West Bank, Gaza Strip, and Somalia, but not true for the U.S.\n",
        "We do however agree with this assumption.\n",
        "Our seventh assumption is that countries with a higher amount of government corruption will have a higher amount of terrorist attacks.\n",
        "Although some people think that the U.S has a corrupt government, we will not be including that in the list of countries with a more corrupt government compared to other countries like somalia. \n",
        "Therefore we do agree with this assumption.\n",
        "Our eighth assumption is that countries with strong security forces will have a lower number of terrorist attacks.\n",
        "Again the United States is the only outlier here, they have a strong security force, yet still experience some of the most terrorist attacks out of these countries listed. \n",
        "Our next assumption is that countries lacking a strong formal government will experience most terrorist attacks. \n",
        "Being that the keyword is MOST, we will disagree with this assumption, being that the U.S only has some thousand less terrorist attacks than somalia. \n",
        "Our final assumption is that the location of the country will make it more susceptible to terrorist attacks. \n",
        "We do not agree with this assumption, because the location does not matter, rather than the actions that are taking place. \n",
        "It is quite obvious that the United States stands out in most of our assumptions. \n",
        "The terrorist attack rate is alarmingly high, even though the U.S stands quite high on the GDP graph. \n",
        "One my wonder why that is. \n",
        "Perhaps the reason could be a flawed social system, but based off of our research we can only conclude that the GDP does not accuratly represent terrorist attacks for our country. \n"
      ],
      "execution_count": 0,
      "outputs": []
    }
  ]
}